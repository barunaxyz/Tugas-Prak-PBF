{
  "nbformat": 4,
  "nbformat_minor": 0,
  "metadata": {
    "colab": {
      "provenance": []
    },
    "kernelspec": {
      "name": "python3",
      "display_name": "Python 3"
    },
    "language_info": {
      "name": "python"
    }
  },
  "cells": [
    {
      "cell_type": "markdown",
      "source": [
        "# Nomor 1"
      ],
      "metadata": {
        "id": "lRajg5OPS9t-"
      }
    },
    {
      "cell_type": "code",
      "execution_count": null,
      "metadata": {
        "id": "Wy29JhuQSkeB",
        "colab": {
          "base_uri": "https://localhost:8080/"
        },
        "outputId": "aeff8ab5-ba5b-4909-87e1-d53ddce24938"
      },
      "outputs": [
        {
          "output_type": "execute_result",
          "data": {
            "text/plain": [
              "259"
            ]
          },
          "metadata": {},
          "execution_count": 2
        }
      ],
      "source": [
        "def f(x):\n",
        "  return 4**x\n",
        "def g(x):\n",
        "  return x**x\n",
        "def h(x):\n",
        "  return 3+x\n",
        "h(g(f(1)))"
      ]
    },
    {
      "cell_type": "code",
      "source": [
        "f=lambda x:4**x\n",
        "g=lambda x:x**x\n",
        "h=lambda x:3+x\n",
        "h(g(f(1)))"
      ],
      "metadata": {
        "id": "qOqSTS_IUNhJ",
        "colab": {
          "base_uri": "https://localhost:8080/"
        },
        "outputId": "5915214a-3edb-4e08-ec22-e1de745261fd"
      },
      "execution_count": null,
      "outputs": [
        {
          "output_type": "execute_result",
          "data": {
            "text/plain": [
              "259"
            ]
          },
          "metadata": {},
          "execution_count": 3
        }
      ]
    },
    {
      "cell_type": "markdown",
      "source": [
        "# Nomor 2\n"
      ],
      "metadata": {
        "id": "YH8eQFbHwxTb"
      }
    },
    {
      "cell_type": "code",
      "source": [
        "#Buat Class Value dan inisiasi fungsi baru self\n",
        "class Value:\n",
        "    def __init__(self, value):\n",
        "        self.value = value\n",
        "#buat instance yaitu fungsi f, g, dan h pada x dan dikembalikan nilainya ke class value\n",
        "def f(x):\n",
        "    return Value(4**x)\n",
        "def g(x):\n",
        "    return Value(x ** x)\n",
        "def h(x):\n",
        "    return Value(3 + x)\n",
        "#print hasilnya\n",
        "print (h(g(f(1).value).value).value)"
      ],
      "metadata": {
        "colab": {
          "base_uri": "https://localhost:8080/"
        },
        "id": "E0aTxc5UtH-j",
        "outputId": "c158f895-87e7-409e-e533-0657ce436a85"
      },
      "execution_count": null,
      "outputs": [
        {
          "output_type": "execute_result",
          "data": {
            "text/plain": [
              "259"
            ]
          },
          "metadata": {},
          "execution_count": 8
        }
      ]
    },
    {
      "cell_type": "markdown",
      "source": [
        "#Nomor 4"
      ],
      "metadata": {
        "id": "U_ulp7MaQhDC"
      }
    },
    {
      "cell_type": "code",
      "source": [
        "class Segitiga:\n",
        "    def __init__(self, alas, tinggi):\n",
        "        self.alas = alas\n",
        "        self.tinggi = tinggi\n",
        "\n",
        "    def hitung_luas(self):\n",
        "        return 0.5 * self.alas * self.tinggi\n",
        "\n",
        "\n",
        "# Contoh Penggunaan\n",
        "segitiga = Segitiga (alas=5, tinggi=8)\n",
        "luas = segitiga.hitung_luas()\n",
        "print(f'Luas Segitiga (PBO): {luas}')"
      ],
      "metadata": {
        "colab": {
          "base_uri": "https://localhost:8080/"
        },
        "id": "pz5z2xDdQjze",
        "outputId": "6aa2edeb-f9b3-4288-c9f0-7f0598c83295"
      },
      "execution_count": null,
      "outputs": [
        {
          "output_type": "stream",
          "name": "stdout",
          "text": [
            "Luas Segitiga (PBO): 20.0\n"
          ]
        }
      ]
    },
    {
      "cell_type": "code",
      "source": [
        "def hitung_luas_segitiga(alas, tinggi):\n",
        "    return 0.5 * alas * tinggi\n",
        "\n",
        "# Contoh Penggunaan\n",
        "alas = 5\n",
        "tinggi = 8\n",
        "luas = hitung_luas_segitiga(alas, tinggi)\n",
        "print(f'Luas Segitiga (PBF): {luas}')"
      ],
      "metadata": {
        "colab": {
          "base_uri": "https://localhost:8080/"
        },
        "id": "sY7aFYFGQ_C-",
        "outputId": "384428bf-f443-4d39-e307-720a98491769"
      },
      "execution_count": null,
      "outputs": [
        {
          "output_type": "stream",
          "name": "stdout",
          "text": [
            "Luas Segitiga (PBF): 20.0\n"
          ]
        }
      ]
    },
    {
      "cell_type": "code",
      "source": [
        "import timeit\n",
        "\n",
        "#uji Komputasi untuk Pemrograman Berorientasi Objek\n",
        "segitiga = Segitiga(alas=5, tinggi=8)\n",
        "waktu_pbo = timeit.timeit(segitiga.hitung_luas, number=100000)\n",
        "\n",
        "#uji Komputasi untuk Pemrograman Berbasis Fungsi\n",
        "waktu_pbf = timeit.timeit(lambda: hitung_luas_segitiga(5, 8), number=100000)\n",
        "\n",
        "#bandingkan Waktu Komputasi\n",
        "print(f'Waktu Komputasi (PBO): {waktu_pbo:.5f} detik')\n",
        "print(f'Waktu Komputasi (PBF): {waktu_pbf:.5f} detik')\n",
        "#jadi didapatkan hasil dari waktu komputasi. Antara waktu Komputasi PBF dan PBO yang paling cepat ialah yang menggunakan PBF"
      ],
      "metadata": {
        "colab": {
          "base_uri": "https://localhost:8080/"
        },
        "id": "AIePGKvdRDX9",
        "outputId": "93c692fb-bc9a-4d35-ef50-c7394e7a49aa"
      },
      "execution_count": null,
      "outputs": [
        {
          "output_type": "stream",
          "name": "stdout",
          "text": [
            "Waktu Komputasi (PBO): 0.02239 detik\n",
            "Waktu Komputasi (PBF): 0.01981 detik\n"
          ]
        }
      ]
    },
    {
      "cell_type": "markdown",
      "source": [
        "# Nomor 5"
      ],
      "metadata": {
        "id": "k5-tiooWXqF_"
      }
    },
    {
      "cell_type": "code",
      "source": [
        "def f(x):\n",
        "    return x - 2**-x\n",
        "\n",
        "def bisection_procedural(x0, x1, e):\n",
        "    iterasi = 1\n",
        "    while True:\n",
        "        x2 = (x0 + x1) / 2\n",
        "        f_x2 = f(x2)\n",
        "\n",
        "        print(f'Iterasi {iterasi}: x2 = {x2}, f(x2) = {f_x2}')\n",
        "\n",
        "        if f_x2 * f(x0) < 0:\n",
        "            x1 = x2\n",
        "        elif f_x2 * f(x0) > 0:\n",
        "            x0 = x2\n",
        "        else:\n",
        "            return x2, iterasi\n",
        "\n",
        "        if abs(f_x2) <= e:\n",
        "            return x2, iterasi\n",
        "\n",
        "        iterasi += 1\n",
        "\n",
        "x0_procedural = 0.2\n",
        "x1_procedural = 0.8\n",
        "toleransi_procedural = 1e-5\n",
        "akar_procedural, iterasi_procedural = bisection_procedural(x0_procedural, x1_procedural, toleransi_procedural)\n",
        "print(f'Akar (Procedural): {akar_procedural}, Iterasi: {iterasi_procedural}')"
      ],
      "metadata": {
        "colab": {
          "base_uri": "https://localhost:8080/"
        },
        "id": "FBIXiPCUXpTu",
        "outputId": "2a8b689a-7fee-4e8e-b570-9bcd8c232ed1"
      },
      "execution_count": 1,
      "outputs": [
        {
          "output_type": "stream",
          "name": "stdout",
          "text": [
            "Iterasi 1: x2 = 0.5, f(x2) = -0.20710678118654757\n",
            "Iterasi 2: x2 = 0.65, f(x2) = 0.012719686340368908\n",
            "Iterasi 3: x2 = 0.575, f(x2) = -0.0962862513901318\n",
            "Iterasi 4: x2 = 0.6125, f(x2) = -0.0415623157171654\n",
            "Iterasi 5: x2 = 0.6312500000000001, f(x2) = -0.014366788593031976\n",
            "Iterasi 6: x2 = 0.640625, f(x2) = -0.0008100080393891318\n",
            "Iterasi 7: x2 = 0.6453125, f(x2) = 0.005958213930367107\n",
            "Iterasi 8: x2 = 0.64296875, f(x2) = 0.002574948011650924\n",
            "Iterasi 9: x2 = 0.641796875, f(x2) = 0.0008826814243142467\n",
            "Iterasi 10: x2 = 0.6412109375, f(x2) = 3.638957347895655e-05\n",
            "Iterasi 11: x2 = 0.64091796875, f(x2) = -0.00038679601001623265\n",
            "Iterasi 12: x2 = 0.641064453125, f(x2) = -0.00017519991286951697\n",
            "Iterasi 13: x2 = 0.6411376953125001, f(x2) = -6.940434338731372e-05\n",
            "Iterasi 14: x2 = 0.64117431640625, f(x2) = -1.6507178382529908e-05\n",
            "Iterasi 15: x2 = 0.641192626953125, f(x2) = 9.941249190403845e-06\n",
            "Akar (Procedural): 0.641192626953125, Iterasi: 15\n"
          ]
        }
      ]
    },
    {
      "cell_type": "code",
      "source": [
        "f = lambda x: x - 2**(-x)\n",
        "\n",
        "def bisection_functional(x0, x1, e):\n",
        "    def perbarui_selang(selang, iterasi):\n",
        "        x0, x1 = selang\n",
        "        x2 = (x0 + x1) / 2\n",
        "        f_x2 = f(x2)\n",
        "        print(f'Iterasi {iterasi}: x2 = {x2}, f(x2) = {f_x2}')\n",
        "        return (x0, x2) if f_x2 * f(x0) < 0 else (x2, x1) if f_x2 * f(x0) > 0 else (x2, x1)\n",
        "\n",
        "    def toleransi(selang):\n",
        "        x0, x1 = selang\n",
        "        return abs(f((x0 + x1) / 2)) > e\n",
        "\n",
        "    akar = (x0, x1)\n",
        "    iterasi = 1\n",
        "    while toleransi(akar):\n",
        "        akar = perbarui_selang(akar, iterasi)\n",
        "        iterasi += 1\n",
        "\n",
        "    return (akar[0] + akar[1]) / 2, iterasi\n",
        "\n",
        "# Example Usage\n",
        "x0_functional = 0.2\n",
        "x1_functional = 0.8\n",
        "toleransi_functional = 1e-5\n",
        "akar_functional, iterasi_functional = bisection_functional(x0_functional, x1_functional, toleransi_functional)\n",
        "print(f'Akar (Functional): {akar_functional}, Iterasi: {iterasi_functional}')"
      ],
      "metadata": {
        "colab": {
          "base_uri": "https://localhost:8080/"
        },
        "id": "jdI4xQHPaLvy",
        "outputId": "a21e8ee2-d5e3-42f1-94e9-383fc5f2b0fa"
      },
      "execution_count": 2,
      "outputs": [
        {
          "output_type": "stream",
          "name": "stdout",
          "text": [
            "Iterasi 1: x2 = 0.5, f(x2) = -0.20710678118654757\n",
            "Iterasi 2: x2 = 0.65, f(x2) = 0.012719686340368908\n",
            "Iterasi 3: x2 = 0.575, f(x2) = -0.0962862513901318\n",
            "Iterasi 4: x2 = 0.6125, f(x2) = -0.0415623157171654\n",
            "Iterasi 5: x2 = 0.6312500000000001, f(x2) = -0.014366788593031976\n",
            "Iterasi 6: x2 = 0.640625, f(x2) = -0.0008100080393891318\n",
            "Iterasi 7: x2 = 0.6453125, f(x2) = 0.005958213930367107\n",
            "Iterasi 8: x2 = 0.64296875, f(x2) = 0.002574948011650924\n",
            "Iterasi 9: x2 = 0.641796875, f(x2) = 0.0008826814243142467\n",
            "Iterasi 10: x2 = 0.6412109375, f(x2) = 3.638957347895655e-05\n",
            "Iterasi 11: x2 = 0.64091796875, f(x2) = -0.00038679601001623265\n",
            "Iterasi 12: x2 = 0.641064453125, f(x2) = -0.00017519991286951697\n",
            "Iterasi 13: x2 = 0.6411376953125001, f(x2) = -6.940434338731372e-05\n",
            "Iterasi 14: x2 = 0.64117431640625, f(x2) = -1.6507178382529908e-05\n",
            "Akar (Functional): 0.641192626953125, Iterasi: 15\n"
          ]
        }
      ]
    },
    {
      "cell_type": "code",
      "source": [
        "def bisection_method(a, b, max_iterations, tolerance):\n",
        "    print('\\tBISECTION METHOD')\n",
        "\n",
        "    for i in range(max_iterations):\n",
        "        print(f'------------Iteration {i+1}--------------------------')\n",
        "        print()\n",
        "        print(f'a= {a}')\n",
        "        print(f'b= {b}')\n",
        "\n",
        "        x = (a + b) / 2\n",
        "        print(f'x= {x}')\n",
        "\n",
        "        fa = 2*a - 5  # Ganti fungsi di sini.\n",
        "        print(f'fa= {fa}')\n",
        "\n",
        "        fb = 2*b - 5  # Ganti fungsi di sini.\n",
        "        print(f'fb= {fb}')\n",
        "\n",
        "        fx = 2*x - 5  # Ganti fungsi di sini.\n",
        "        print(f'fx= {fx}')\n",
        "        print()\n",
        "\n",
        "        if abs(fx) <= tolerance:\n",
        "            print(f'Tolerance met. Root found: {x}')\n",
        "            break\n",
        "        elif (fa < 0 and fx < 0) or (fa > 0 and fx > 0):\n",
        "            a = x\n",
        "        else:\n",
        "            b = x\n",
        "\n",
        "# Example Usage\n",
        "a_value = 0\n",
        "b_value = 3\n",
        "max_iterations_value = 8\n",
        "tolerance_value = 1e-6\n",
        "\n",
        "bisection_method(a_value, b_value, max_iterations_value, tolerance_value)"
      ],
      "metadata": {
        "colab": {
          "base_uri": "https://localhost:8080/"
        },
        "id": "xebP2mNzabl-",
        "outputId": "1a98b24d-ac8f-4ebb-a264-225f9685a55e"
      },
      "execution_count": 3,
      "outputs": [
        {
          "output_type": "stream",
          "name": "stdout",
          "text": [
            "\tBISECTION METHOD\n",
            "------------Iteration 1--------------------------\n",
            "\n",
            "a= 0\n",
            "b= 3\n",
            "x= 1.5\n",
            "fa= -5\n",
            "fb= 1\n",
            "fx= -2.0\n",
            "\n",
            "------------Iteration 2--------------------------\n",
            "\n",
            "a= 1.5\n",
            "b= 3\n",
            "x= 2.25\n",
            "fa= -2.0\n",
            "fb= 1\n",
            "fx= -0.5\n",
            "\n",
            "------------Iteration 3--------------------------\n",
            "\n",
            "a= 2.25\n",
            "b= 3\n",
            "x= 2.625\n",
            "fa= -0.5\n",
            "fb= 1\n",
            "fx= 0.25\n",
            "\n",
            "------------Iteration 4--------------------------\n",
            "\n",
            "a= 2.25\n",
            "b= 2.625\n",
            "x= 2.4375\n",
            "fa= -0.5\n",
            "fb= 0.25\n",
            "fx= -0.125\n",
            "\n",
            "------------Iteration 5--------------------------\n",
            "\n",
            "a= 2.4375\n",
            "b= 2.625\n",
            "x= 2.53125\n",
            "fa= -0.125\n",
            "fb= 0.25\n",
            "fx= 0.0625\n",
            "\n",
            "------------Iteration 6--------------------------\n",
            "\n",
            "a= 2.4375\n",
            "b= 2.53125\n",
            "x= 2.484375\n",
            "fa= -0.125\n",
            "fb= 0.0625\n",
            "fx= -0.03125\n",
            "\n",
            "------------Iteration 7--------------------------\n",
            "\n",
            "a= 2.484375\n",
            "b= 2.53125\n",
            "x= 2.5078125\n",
            "fa= -0.03125\n",
            "fb= 0.0625\n",
            "fx= 0.015625\n",
            "\n",
            "------------Iteration 8--------------------------\n",
            "\n",
            "a= 2.484375\n",
            "b= 2.5078125\n",
            "x= 2.49609375\n",
            "fa= -0.03125\n",
            "fb= 0.015625\n",
            "fx= -0.0078125\n",
            "\n"
          ]
        }
      ]
    }
  ]
}