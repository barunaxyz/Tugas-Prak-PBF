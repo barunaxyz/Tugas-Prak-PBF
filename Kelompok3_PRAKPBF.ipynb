{
  "nbformat": 4,
  "nbformat_minor": 0,
  "metadata": {
    "colab": {
      "provenance": []
    },
    "kernelspec": {
      "name": "python3",
      "display_name": "Python 3"
    },
    "language_info": {
      "name": "python"
    }
  },
  "cells": [
    {
      "cell_type": "markdown",
      "source": [
        "# Nomor 1"
      ],
      "metadata": {
        "id": "lRajg5OPS9t-"
      }
    },
    {
      "cell_type": "code",
      "execution_count": null,
      "metadata": {
        "id": "Wy29JhuQSkeB",
        "colab": {
          "base_uri": "https://localhost:8080/"
        },
        "outputId": "aeff8ab5-ba5b-4909-87e1-d53ddce24938"
      },
      "outputs": [
        {
          "output_type": "execute_result",
          "data": {
            "text/plain": [
              "259"
            ]
          },
          "metadata": {},
          "execution_count": 2
        }
      ],
      "source": [
        "def f(x):\n",
        "  return 4**x\n",
        "def g(x):\n",
        "  return x**x\n",
        "def h(x):\n",
        "  return 3+x\n",
        "h(g(f(1)))"
      ]
    },
    {
      "cell_type": "code",
      "source": [
        "f=lambda x:4**x\n",
        "g=lambda x:x**x\n",
        "h=lambda x:3+x\n",
        "h(g(f(1)))"
      ],
      "metadata": {
        "id": "qOqSTS_IUNhJ",
        "colab": {
          "base_uri": "https://localhost:8080/"
        },
        "outputId": "5915214a-3edb-4e08-ec22-e1de745261fd"
      },
      "execution_count": null,
      "outputs": [
        {
          "output_type": "execute_result",
          "data": {
            "text/plain": [
              "259"
            ]
          },
          "metadata": {},
          "execution_count": 3
        }
      ]
    },
    {
      "cell_type": "markdown",
      "source": [
        "# Nomor 2\n"
      ],
      "metadata": {
        "id": "YH8eQFbHwxTb"
      }
    },
    {
      "cell_type": "code",
      "source": [
        "#Buat Class Value dan inisiasi fungsi baru self\n",
        "class Value:\n",
        "    def __init__(self, value):\n",
        "        self.value = value\n",
        "#buat instance yaitu fungsi f, g, dan h pada x dan dikembalikan nilainya ke class value\n",
        "def f(x):\n",
        "    return Value(4**x)\n",
        "def g(x):\n",
        "    return Value(x ** x)\n",
        "def h(x):\n",
        "    return Value(3 + x)\n",
        "#print hasilnya\n",
        "print (h(g(f(1).value).value).value)"
      ],
      "metadata": {
        "colab": {
          "base_uri": "https://localhost:8080/"
        },
        "id": "E0aTxc5UtH-j",
        "outputId": "c158f895-87e7-409e-e533-0657ce436a85"
      },
      "execution_count": null,
      "outputs": [
        {
          "output_type": "execute_result",
          "data": {
            "text/plain": [
              "259"
            ]
          },
          "metadata": {},
          "execution_count": 8
        }
      ]
    },
    {
      "cell_type": "markdown",
      "source": [
        "#Nomor 4"
      ],
      "metadata": {
        "id": "U_ulp7MaQhDC"
      }
    },
    {
      "cell_type": "code",
      "source": [
        "class Segitiga:\n",
        "    def __init__(self, alas, tinggi):\n",
        "        self.alas = alas\n",
        "        self.tinggi = tinggi\n",
        "\n",
        "    def hitung_luas(self):\n",
        "        return 0.5 * self.alas * self.tinggi\n",
        "\n",
        "\n",
        "# Contoh Penggunaan\n",
        "segitiga = Segitiga (alas=5, tinggi=8)\n",
        "luas = segitiga.hitung_luas()\n",
        "print(f'Luas Segitiga (PBO): {luas}')"
      ],
      "metadata": {
        "colab": {
          "base_uri": "https://localhost:8080/"
        },
        "id": "pz5z2xDdQjze",
        "outputId": "6aa2edeb-f9b3-4288-c9f0-7f0598c83295"
      },
      "execution_count": 4,
      "outputs": [
        {
          "output_type": "stream",
          "name": "stdout",
          "text": [
            "Luas Segitiga (PBO): 20.0\n"
          ]
        }
      ]
    },
    {
      "cell_type": "code",
      "source": [
        "def hitung_luas_segitiga(alas, tinggi):\n",
        "    return 0.5 * alas * tinggi\n",
        "\n",
        "# Contoh Penggunaan\n",
        "alas = 5\n",
        "tinggi = 8\n",
        "luas = hitung_luas_segitiga(alas, tinggi)\n",
        "print(f'Luas Segitiga (PBF): {luas}')"
      ],
      "metadata": {
        "colab": {
          "base_uri": "https://localhost:8080/"
        },
        "id": "sY7aFYFGQ_C-",
        "outputId": "384428bf-f443-4d39-e307-720a98491769"
      },
      "execution_count": 5,
      "outputs": [
        {
          "output_type": "stream",
          "name": "stdout",
          "text": [
            "Luas Segitiga (PBF): 20.0\n"
          ]
        }
      ]
    },
    {
      "cell_type": "code",
      "source": [
        "import timeit\n",
        "\n",
        "#uji Komputasi untuk Pemrograman Berorientasi Objek\n",
        "segitiga = Segitiga(alas=5, tinggi=8)\n",
        "waktu_pbo = timeit.timeit(segitiga.hitung_luas, number=100000)\n",
        "\n",
        "#uji Komputasi untuk Pemrograman Berbasis Fungsi\n",
        "waktu_pbf = timeit.timeit(lambda: hitung_luas_segitiga(5, 8), number=100000)\n",
        "\n",
        "#bandingkan Waktu Komputasi\n",
        "print(f'Waktu Komputasi (PBO): {waktu_pbo:.5f} detik')\n",
        "print(f'Waktu Komputasi (PBF): {waktu_pbf:.5f} detik')\n",
        "#jadi didapatkan hasil dari waktu komputasi. Antara waktu Komputasi PBF dan PBO yang paling cepat ialah yang menggunakan PBF"
      ],
      "metadata": {
        "colab": {
          "base_uri": "https://localhost:8080/"
        },
        "id": "AIePGKvdRDX9",
        "outputId": "93c692fb-bc9a-4d35-ef50-c7394e7a49aa"
      },
      "execution_count": 7,
      "outputs": [
        {
          "output_type": "stream",
          "name": "stdout",
          "text": [
            "Waktu Komputasi (PBO): 0.02239 detik\n",
            "Waktu Komputasi (PBF): 0.01981 detik\n"
          ]
        }
      ]
    }
  ]
}